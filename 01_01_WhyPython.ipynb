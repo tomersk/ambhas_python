{
  "nbformat": 4,
  "nbformat_minor": 0,
  "metadata": {
    "colab": {
      "provenance": [],
      "authorship_tag": "ABX9TyNlp3SaVnUmmiIwaxXgFWmF",
      "include_colab_link": true
    },
    "kernelspec": {
      "name": "python3",
      "display_name": "Python 3"
    },
    "language_info": {
      "name": "python"
    }
  },
  "cells": [
    {
      "cell_type": "markdown",
      "metadata": {
        "id": "view-in-github",
        "colab_type": "text"
      },
      "source": [
        "<a href=\"https://colab.research.google.com/github/tomersk/ambhas_python/blob/master/01_01_WhyPython.ipynb\" target=\"_parent\"><img src=\"https://colab.research.google.com/assets/colab-badge.svg\" alt=\"Open In Colab\"/></a>"
      ]
    },
    {
      "cell_type": "markdown",
      "source": [
        "# Getting Started\n",
        "\n",
        "## 1.1 Why Python?\n",
        "Python is a simple and powerful programming language. By simple I mean, that it is much more forgiving than languages like C though slow also. By powerful, I mean it can glue many existing\n",
        "codes, which were written in C, C++, Fortran etc. easily. It has a growing user community, which makes many tools easily available. Python Package Index, which is a major host of the Python code, has more than 15,000 packages listed as of now, speaks about it popularity. The use of Python in hydrology community is not so fast as compared to other field, but now-a-days many new hydrological packages are being developed. Python provides access to a nice combination of GIS tools,\n",
        "Mathematics, and Statistics etc., which makes it a useful language for the hydrologist. Following are the major advantages of Python for the hydrologist:\n",
        "1. A clear and readable syntax.\n",
        "2. Modules can be easily written in C, C++.\n",
        "3. It can be used on all major platforms (Windows, Linux/Unix, Mac etc.)\n",
        "4. Easy to learn.\n",
        "5. And, it is free."
      ],
      "metadata": {
        "id": "8HaCMzYizhvz"
      }
    }
  ]
}